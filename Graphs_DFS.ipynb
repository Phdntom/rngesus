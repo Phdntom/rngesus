{
 "cells": [
  {
   "cell_type": "code",
   "execution_count": 1,
   "metadata": {
    "collapsed": true
   },
   "outputs": [],
   "source": [
    "graph = {0: [1, 7],\n",
    "         1: [0, 2],\n",
    "         2: [1, 6],\n",
    "         3: [4],\n",
    "         4: [3, 5, 8],\n",
    "         5: [4, 6, 8],\n",
    "         6: [2, 5, 7],\n",
    "         7: [0, 6, 8],\n",
    "         8: [4, 5, 7]\n",
    "        }"
   ]
  },
  {
   "cell_type": "code",
   "execution_count": 2,
   "metadata": {
    "collapsed": false
   },
   "outputs": [
    {
     "name": "stdout",
     "output_type": "stream",
     "text": [
      "(0, [1, 7])\n",
      "(1, [0, 2])\n",
      "(2, [1, 6])\n",
      "(3, [4])\n",
      "(4, [3, 5, 8])\n",
      "(5, [4, 6, 8])\n",
      "(6, [2, 5, 7])\n",
      "(7, [0, 6, 8])\n",
      "(8, [4, 5, 7])\n"
     ]
    },
    {
     "data": {
      "text/plain": [
       "11"
      ]
     },
     "execution_count": 2,
     "metadata": {},
     "output_type": "execute_result"
    }
   ],
   "source": [
    "edge_count = 0\n",
    "for node in graph:\n",
    "    edges = graph[node]\n",
    "    edge_count += len(edges)\n",
    "    print(node, edges)\n",
    "edge_count / 2"
   ]
  },
  {
   "cell_type": "code",
   "execution_count": 3,
   "metadata": {
    "collapsed": true
   },
   "outputs": [],
   "source": [
    "def dfs(graph, start):\n",
    "    '''Iterative'''\n",
    "    visited, stack = set(), [start]\n",
    "    while stack:\n",
    "        vertex = stack.pop()\n",
    "        if vertex not in visited:\n",
    "            visited.add(vertex)\n",
    "            stack.extend([u for u in graph[vertex] if u not in visited])\n",
    "    return visited"
   ]
  },
  {
   "cell_type": "code",
   "execution_count": 4,
   "metadata": {
    "collapsed": false
   },
   "outputs": [
    {
     "data": {
      "text/plain": [
       "{0, 1, 2, 3, 4, 5, 6, 7, 8}"
      ]
     },
     "execution_count": 4,
     "metadata": {},
     "output_type": "execute_result"
    }
   ],
   "source": [
    "dfs(graph, 0)"
   ]
  },
  {
   "cell_type": "code",
   "execution_count": null,
   "metadata": {
    "collapsed": true
   },
   "outputs": [],
   "source": [
    "def dfs(graph, start, visited=None):\n",
    "    '''Recursive'''\n",
    "    if visited is None:\n",
    "        visited = set()\n",
    "    visited.add(start)\n",
    "    for u in graph[start] - visited:\n",
    "        dfs(graph, u, visited)\n",
    "    return visited"
   ]
  },
  {
   "cell_type": "code",
   "execution_count": 5,
   "metadata": {
    "collapsed": false
   },
   "outputs": [
    {
     "data": {
      "text/plain": [
       "{0, 1, 2, 3, 4, 5, 6, 7, 8}"
      ]
     },
     "execution_count": 5,
     "metadata": {},
     "output_type": "execute_result"
    }
   ],
   "source": [
    "dfs(graph, 0)"
   ]
  },
  {
   "cell_type": "code",
   "execution_count": 15,
   "metadata": {
    "collapsed": false
   },
   "outputs": [],
   "source": [
    "from collections import defaultdict\n",
    "\n",
    "def dfs_paths(graph, start):\n",
    "    target_paths = defaultdict(list)\n",
    "    stack = [(start, [start])]\n",
    "    while stack:\n",
    "        (vertex, path) = stack.pop()\n",
    "        for u in graph[vertex]:\n",
    "            if u in set(path):\n",
    "                continue\n",
    "            target_paths[u].append(path + [u])\n",
    "\n",
    "            stack.append((u, path + [u]))\n",
    "    return target_paths"
   ]
  },
  {
   "cell_type": "code",
   "execution_count": 16,
   "metadata": {
    "collapsed": false
   },
   "outputs": [
    {
     "data": {
      "text/plain": [
       "defaultdict(list,\n",
       "            {1: [[0, 1],\n",
       "              [0, 7, 8, 5, 6, 2, 1],\n",
       "              [0, 7, 8, 4, 5, 6, 2, 1],\n",
       "              [0, 7, 6, 2, 1]],\n",
       "             2: [[0, 7, 8, 5, 6, 2],\n",
       "              [0, 7, 8, 4, 5, 6, 2],\n",
       "              [0, 7, 6, 2],\n",
       "              [0, 1, 2]],\n",
       "             3: [[0, 7, 8, 5, 4, 3],\n",
       "              [0, 7, 8, 4, 3],\n",
       "              [0, 7, 6, 5, 8, 4, 3],\n",
       "              [0, 7, 6, 5, 4, 3],\n",
       "              [0, 1, 2, 6, 7, 8, 5, 4, 3],\n",
       "              [0, 1, 2, 6, 7, 8, 4, 3],\n",
       "              [0, 1, 2, 6, 5, 8, 4, 3],\n",
       "              [0, 1, 2, 6, 5, 4, 3]],\n",
       "             4: [[0, 7, 8, 4],\n",
       "              [0, 7, 8, 5, 4],\n",
       "              [0, 7, 6, 5, 4],\n",
       "              [0, 7, 6, 5, 8, 4],\n",
       "              [0, 1, 2, 6, 7, 8, 4],\n",
       "              [0, 1, 2, 6, 7, 8, 5, 4],\n",
       "              [0, 1, 2, 6, 5, 4],\n",
       "              [0, 1, 2, 6, 5, 8, 4]],\n",
       "             5: [[0, 7, 8, 5],\n",
       "              [0, 7, 8, 4, 5],\n",
       "              [0, 7, 6, 5],\n",
       "              [0, 1, 2, 6, 5],\n",
       "              [0, 1, 2, 6, 7, 8, 5],\n",
       "              [0, 1, 2, 6, 7, 8, 4, 5]],\n",
       "             6: [[0, 7, 6], [0, 7, 8, 5, 6], [0, 7, 8, 4, 5, 6], [0, 1, 2, 6]],\n",
       "             7: [[0, 7],\n",
       "              [0, 1, 2, 6, 7],\n",
       "              [0, 1, 2, 6, 5, 8, 7],\n",
       "              [0, 1, 2, 6, 5, 4, 8, 7]],\n",
       "             8: [[0, 7, 8],\n",
       "              [0, 7, 6, 5, 8],\n",
       "              [0, 7, 6, 5, 4, 8],\n",
       "              [0, 1, 2, 6, 7, 8],\n",
       "              [0, 1, 2, 6, 5, 8],\n",
       "              [0, 1, 2, 6, 5, 4, 8]]})"
      ]
     },
     "execution_count": 16,
     "metadata": {},
     "output_type": "execute_result"
    }
   ],
   "source": [
    "all_u_paths = dfs_paths(graph, 0)\n",
    "all_u_paths"
   ]
  },
  {
   "cell_type": "code",
   "execution_count": null,
   "metadata": {
    "collapsed": true
   },
   "outputs": [],
   "source": [
    "def dfs_paths(graph, start, goal, path=None):\n",
    "    if path is None:\n",
    "        path = [start]\n",
    "    if start == goal:\n",
    "        yield path\n",
    "    for next in graph[start] - set(path):\n",
    "        yield from dfs_paths(graph, next, goal, path + [next])"
   ]
  },
  {
   "cell_type": "code",
   "execution_count": 67,
   "metadata": {
    "collapsed": true
   },
   "outputs": [],
   "source": [
    "def dfs(G, start):\n",
    "    \"\"\"\n",
    "    def dfs(graph, start):\n",
    "        visited, stack = set(), [start]\n",
    "        while stack:\n",
    "            vertex = stack.pop()\n",
    "            if vertex not in visited:\n",
    "                visited.add(vertex)\n",
    "                stack.extend(graph[vertex] - visited)\n",
    "        return visited\n",
    "    \n",
    "    \n",
    "    1  procedure DFS-iterative(G,v):\n",
    "    2      let S be a stack\n",
    "    3      S.push(v)\n",
    "    4      while S is not empty\n",
    "    5          v = S.pop()\n",
    "    6          if v is not labeled as discovered:\n",
    "    7              label v as discovered\n",
    "    8              for all edges from v to w in G.adjacentEdges(v) do \n",
    "    9                  S.push(w)\n",
    "    \"\"\"\n",
    "    visited, stack = {}, [start]\n",
    "    time = 0\n",
    "    while stack:\n",
    "        vertex = stack.pop()\n",
    "        if vertex not in visited:\n",
    "            visited[vertex] = time\n",
    "            for u in G[vertex]:\n",
    "                if u not in visited:\n",
    "                    stack.append(u)\n",
    "        time += 1\n",
    "    return visited"
   ]
  },
  {
   "cell_type": "code",
   "execution_count": 68,
   "metadata": {
    "collapsed": false
   },
   "outputs": [
    {
     "data": {
      "text/plain": [
       "{0, 1, 2, 3, 4, 5, 6, 7, 8}"
      ]
     },
     "execution_count": 68,
     "metadata": {},
     "output_type": "execute_result"
    }
   ],
   "source": [
    "dfs(graph, 0)"
   ]
  },
  {
   "cell_type": "code",
   "execution_count": 58,
   "metadata": {
    "collapsed": false
   },
   "outputs": [],
   "source": [
    "def re_dfs(G, v, discov):\n",
    "    '''\n",
    "    1 procedure DFS(G,v):\n",
    "    2      label v as discovered\n",
    "    3      for all edges from v to w in G.adjacentEdges(v) do\n",
    "    4          if vertex w is not labeled as discovered then\n",
    "    5              recursively call DFS(G,w)\n",
    "    '''\n",
    "    discov.append(v)\n",
    "    print(discov)\n",
    "    for u in G[v]:\n",
    "        if u not in discov:\n",
    "            re_dfs(G, u, discov)\n",
    "    "
   ]
  },
  {
   "cell_type": "code",
   "execution_count": 59,
   "metadata": {
    "collapsed": false
   },
   "outputs": [
    {
     "name": "stdout",
     "output_type": "stream",
     "text": [
      "[0]\n",
      "[0, 1]\n",
      "[0, 1, 2]\n",
      "[0, 1, 2, 6]\n",
      "[0, 1, 2, 6, 5]\n",
      "[0, 1, 2, 6, 5, 4]\n",
      "[0, 1, 2, 6, 5, 4, 3]\n",
      "[0, 1, 2, 6, 5, 4, 3, 8]\n",
      "[0, 1, 2, 6, 5, 4, 3, 8, 7]\n"
     ]
    }
   ],
   "source": [
    "re_dfs(graph, 0, [])"
   ]
  },
  {
   "cell_type": "code",
   "execution_count": null,
   "metadata": {
    "collapsed": true
   },
   "outputs": [],
   "source": []
  }
 ],
 "metadata": {
  "kernelspec": {
   "display_name": "Python 2",
   "language": "python",
   "name": "python2"
  },
  "language_info": {
   "codemirror_mode": {
    "name": "ipython",
    "version": 2
   },
   "file_extension": ".py",
   "mimetype": "text/x-python",
   "name": "python",
   "nbconvert_exporter": "python",
   "pygments_lexer": "ipython2",
   "version": "2.7.10"
  }
 },
 "nbformat": 4,
 "nbformat_minor": 0
}
