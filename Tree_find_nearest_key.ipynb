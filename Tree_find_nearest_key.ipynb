{
 "cells": [
  {
   "cell_type": "code",
   "execution_count": 212,
   "metadata": {
    "collapsed": false
   },
   "outputs": [
    {
     "data": {
      "text/plain": [
       "[31,\n",
       " 1,\n",
       " 6,\n",
       " 97,\n",
       " 92,\n",
       " 15,\n",
       " 19,\n",
       " 48,\n",
       " 53,\n",
       " 165,\n",
       " 68,\n",
       " 45,\n",
       " 106,\n",
       " 26,\n",
       " 89,\n",
       " 75,\n",
       " 22,\n",
       " 30,\n",
       " 28,\n",
       " 154]"
      ]
     },
     "execution_count": 212,
     "metadata": {},
     "output_type": "execute_result"
    }
   ],
   "source": [
    "import numpy as np\n",
    "ls = [1, 6, 19, 22, 26, 30, 31, 45, 48, 53, 68, 75, 89, 92, 154, 165, 15, 28, 97, 106]\n",
    "np.random.shuffle(ls)\n",
    "ls"
   ]
  },
  {
   "cell_type": "code",
   "execution_count": 213,
   "metadata": {
    "collapsed": false
   },
   "outputs": [],
   "source": [
    "class TreeNode():\n",
    "    \n",
    "    def __init__(self,\n",
    "            key=None,\n",
    "            left=None,\n",
    "            right=None,\n",
    "            parent=None):\n",
    "        self.key = key\n",
    "        self.left = left\n",
    "        self.right = right\n",
    "        self.parent = parent\n",
    "    def __str__(self):\n",
    "        \n",
    "        return \"{key}\".format(key=self.key)\n",
    "\n",
    "\n",
    "class Tree():\n",
    "    \n",
    "    def __init__(self, root=None):\n",
    "        self.root = root\n",
    "    \n",
    "    def tree_walk(self, style='inorder'):\n",
    "        if style == 'inorder':\n",
    "            self._inorder_tree_walk(self.root)\n",
    "        elif style == 'preorder':\n",
    "            self._preorder_tree_walk(self.root)\n",
    "        elif style == 'postorder':\n",
    "            self._postorder_tree_walk(self.root)\n",
    "        else:\n",
    "            assert(1 == 0)\n",
    "            \n",
    "    def _inorder_tree_walk(self, node):\n",
    "        if node is not None:\n",
    "            self._inorder_tree_walk(node.left)\n",
    "            print(node.key)\n",
    "            self._inorder_tree_walk(node.right)\n",
    "        \n",
    "    def _preorder_tree_walk(self, node):\n",
    "        if node is not None:\n",
    "            print(node.key)\n",
    "            self._preorder_tree_walk(node.left)\n",
    "            self._preorder_tree_walk(node.right)\n",
    "        \n",
    "    def _postorder_tree_walk(self, node):\n",
    "        if node is not None:\n",
    "            self._postorder_tree_walk(node.left)\n",
    "            self._postorder_tree_walk(node.right)\n",
    "            print(node.key)\n",
    "        \n",
    "    def find(self, key):\n",
    "        \n",
    "        return self._find(self.root, key)\n",
    "    \n",
    "    def _find(self, node, key):\n",
    "        \n",
    "        if node is None or node.key == key:\n",
    "            return node\n",
    "        if key < node.key:\n",
    "            return self._find(node.left, key)\n",
    "        else:\n",
    "            return self._find(node.right, key)\n",
    "    \n",
    "    def iter_find(self, key):\n",
    "        \n",
    "        x = self.root\n",
    "        while x is not None and x.key != key:\n",
    "            if key < x.key:\n",
    "                x = x.left\n",
    "            else:\n",
    "                x = x.right\n",
    "        return x\n",
    "        \n",
    "    \n",
    "    def insert(self, node):\n",
    "        \n",
    "        x = self.root\n",
    "        y = None\n",
    "        while x is not None:\n",
    "            y = x\n",
    "            if node.key < x.key:\n",
    "                x = x.left\n",
    "            else:\n",
    "                x = x.right\n",
    "        node.parent = y\n",
    "        if y is None:\n",
    "            self.root = node\n",
    "        elif node.key < y.key:\n",
    "            y.left = node\n",
    "        else:\n",
    "            y.right = node\n",
    "        \n",
    "    def find_nearest(self, key):\n",
    "        '''\n",
    "        Non-standard method to find the `nearest` key to the search `key` in the tree.\n",
    "        '''\n",
    "        x = self.root\n",
    "        min_dist = None\n",
    "        nearest = None\n",
    "        \n",
    "        while x is not None:\n",
    "            dist = np.abs(key - x.key)\n",
    "            if min_dist is None or dist < min_dist:\n",
    "                min_dist = dist\n",
    "                nearest = x.key\n",
    "            \n",
    "            if dist == 0:\n",
    "                break\n",
    "                \n",
    "            if key < x.key:\n",
    "                x = x.left\n",
    "            else:\n",
    "                x = x.right\n",
    "    \n",
    "        return nearest\n"
   ]
  },
  {
   "cell_type": "code",
   "execution_count": 215,
   "metadata": {
    "collapsed": false
   },
   "outputs": [],
   "source": [
    "my_tree = Tree()\n",
    "\n",
    "for val in ls:\n",
    "    new_node = TreeNode(val)\n",
    "    my_tree.insert(new_node)"
   ]
  },
  {
   "cell_type": "code",
   "execution_count": 217,
   "metadata": {
    "collapsed": false
   },
   "outputs": [
    {
     "name": "stdout",
     "output_type": "stream",
     "text": [
      "1\n",
      "6\n",
      "15\n",
      "19\n",
      "22\n",
      "26\n",
      "28\n",
      "30\n",
      "31\n",
      "45\n",
      "48\n",
      "53\n",
      "68\n",
      "75\n",
      "89\n",
      "92\n",
      "97\n",
      "106\n",
      "154\n",
      "165\n"
     ]
    }
   ],
   "source": [
    "my_tree.tree_walk(style='inorder')"
   ]
  },
  {
   "cell_type": "code",
   "execution_count": 223,
   "metadata": {
    "collapsed": false
   },
   "outputs": [
    {
     "name": "stdout",
     "output_type": "stream",
     "text": [
      "89\n"
     ]
    }
   ],
   "source": [
    "f = my_tree.find(89)\n",
    "print(f)"
   ]
  },
  {
   "cell_type": "code",
   "execution_count": 225,
   "metadata": {
    "collapsed": false
   },
   "outputs": [
    {
     "name": "stdout",
     "output_type": "stream",
     "text": [
      "None\n"
     ]
    }
   ],
   "source": [
    "f = my_tree.iter_find(88)\n",
    "print(f)"
   ]
  },
  {
   "cell_type": "code",
   "execution_count": 233,
   "metadata": {
    "collapsed": false
   },
   "outputs": [
    {
     "name": "stdout",
     "output_type": "stream",
     "text": [
      "75\n"
     ]
    }
   ],
   "source": [
    "f = my_tree.find_nearest(81)\n",
    "print(f)"
   ]
  },
  {
   "cell_type": "code",
   "execution_count": 234,
   "metadata": {
    "collapsed": false
   },
   "outputs": [
    {
     "name": "stdout",
     "output_type": "stream",
     "text": [
      "89\n"
     ]
    }
   ],
   "source": [
    "f = my_tree.find_nearest(82)\n",
    "print(f)"
   ]
  },
  {
   "cell_type": "code",
   "execution_count": null,
   "metadata": {
    "collapsed": true
   },
   "outputs": [],
   "source": []
  }
 ],
 "metadata": {
  "kernelspec": {
   "display_name": "Python 2",
   "language": "python",
   "name": "python2"
  },
  "language_info": {
   "codemirror_mode": {
    "name": "ipython",
    "version": 2
   },
   "file_extension": ".py",
   "mimetype": "text/x-python",
   "name": "python",
   "nbconvert_exporter": "python",
   "pygments_lexer": "ipython2",
   "version": "2.7.10"
  }
 },
 "nbformat": 4,
 "nbformat_minor": 0
}
