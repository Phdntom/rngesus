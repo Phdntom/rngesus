{
 "cells": [
  {
   "cell_type": "code",
   "execution_count": 83,
   "metadata": {
    "collapsed": true
   },
   "outputs": [],
   "source": [
    "from __future__ import division, print_function"
   ]
  },
  {
   "cell_type": "code",
   "execution_count": 93,
   "metadata": {
    "collapsed": true
   },
   "outputs": [],
   "source": [
    "kn = {}\n",
    "kn['g'] = ['g', 'h', 'f']\n",
    "kn['i'] = ['i', 'o', 'k']\n",
    "kn['h'] = ['h', 'g', 'j', 'y']\n",
    "kn['m'] = ['m', 'n', 'k']"
   ]
  },
  {
   "cell_type": "code",
   "execution_count": 85,
   "metadata": {
    "collapsed": true
   },
   "outputs": [],
   "source": [
    "def get_nearby_chars(key_char):\n",
    "    '''\n",
    "    \n",
    "    '''\n",
    "    try:\n",
    "        l = kn[key_char.lower()]\n",
    "    except KeyError:\n",
    "        l = []\n",
    "    return l"
   ]
  },
  {
   "cell_type": "code",
   "execution_count": 97,
   "metadata": {
    "collapsed": true
   },
   "outputs": [],
   "source": [
    "def is_word(word):\n",
    "    english_dict = {'hi', 'go', 'hello', 'him', 'jim', 'gin'}\n",
    "    return word in english_dict"
   ]
  },
  {
   "cell_type": "code",
   "execution_count": 98,
   "metadata": {
    "collapsed": true
   },
   "outputs": [],
   "source": [
    "def nearby_words(word):\n",
    "    '''\n",
    "    Replace only one char at a time.\n",
    "    \n",
    "    O(N) where N is the length of `word`\n",
    "    '''\n",
    "    possible_words = []\n",
    "\n",
    "    for index, c in enumerate(word):\n",
    "        print(c)\n",
    "        nearby_chars = get_nearby_chars(c)\n",
    "        print(nearby_chars)\n",
    "        for rep in nearby_chars:\n",
    "            print(rep)\n",
    "            cand_word = word[:index] + rep + word[index+1:]\n",
    "            print(cand_word)\n",
    "            if is_word(cand_word):\n",
    "                possible_words.append(cand_word)\n",
    "        print()\n",
    "    return set(possible_words)"
   ]
  },
  {
   "cell_type": "code",
   "execution_count": 99,
   "metadata": {
    "collapsed": false
   },
   "outputs": [
    {
     "name": "stdout",
     "output_type": "stream",
     "text": [
      "h\n",
      "['h', 'g', 'j', 'y']\n",
      "h\n",
      "hi\n",
      "g\n",
      "gi\n",
      "j\n",
      "ji\n",
      "y\n",
      "yi\n",
      "\n",
      "i\n",
      "['i', 'o', 'k']\n",
      "i\n",
      "hi\n",
      "o\n",
      "ho\n",
      "k\n",
      "hk\n",
      "\n"
     ]
    },
    {
     "data": {
      "text/plain": [
       "{'hi'}"
      ]
     },
     "execution_count": 99,
     "metadata": {},
     "output_type": "execute_result"
    }
   ],
   "source": [
    "nearby_words('hi')"
   ]
  },
  {
   "cell_type": "code",
   "execution_count": 106,
   "metadata": {
    "collapsed": false
   },
   "outputs": [
    {
     "name": "stdout",
     "output_type": "stream",
     "text": [
      "['h', 'i', 'm']\n",
      "2 set([''])\n",
      "['m', 'n', 'k']\n",
      "1 set(['k', 'm', 'n'])\n",
      "['i', 'o', 'k']\n",
      "0 set(['on', 'om', 'ok', 'kk', 'kn', 'km', 'ik', 'im', 'in'])\n",
      "['h', 'g', 'j', 'y']\n",
      "set(['jim', 'jin', 'hkm', 'ykn', 'yik', 'yim', 'hik', 'jik', 'gom', 'yon', 'yom', 'gon', 'yok', 'gok', 'hon', 'hom', 'hok', 'ykm', 'him', 'gkk', 'gkm', 'hin', 'gkn', 'gin', 'gim', 'gik', 'hkk', 'jkn', 'hkn', 'jkk', 'jok', 'jom', 'jon', 'jkm', 'yin', 'ykk']) 36\n"
     ]
    },
    {
     "data": {
      "text/plain": [
       "{'gin', 'him', 'jim'}"
      ]
     },
     "execution_count": 106,
     "metadata": {},
     "output_type": "execute_result"
    }
   ],
   "source": [
    "def nearby_permutations(letters, ix):\n",
    "    '''\n",
    "    '''\n",
    "    permutations = set([])\n",
    "    if ix >= len(letters):\n",
    "        return {''}\n",
    "    \n",
    "    sub_words = nearby_permutations(letters, ix+1)\n",
    "    print(ix, sub_words)\n",
    "    nearby_chars = get_nearby_chars(letters[ix])\n",
    "    print(nearby_chars)\n",
    "    \n",
    "    # q^Nß\n",
    "    for each in sub_words:\n",
    "        for letter in nearby_chars:\n",
    "            permutations.add(letter + each)\n",
    "    \n",
    "    \n",
    "    return permutations\n",
    "\n",
    "def nearby_words(word):\n",
    "    '''\n",
    "    Replace only one char at a time.\n",
    "    \n",
    "    O(N) where N is the length of `word`\n",
    "    '''\n",
    "    if word == '':\n",
    "        return set([])\n",
    "    letters = list(word)\n",
    "    print(letters)\n",
    "    \n",
    "    cand_words = nearby_permutations(letters, 0)\n",
    "    print(cand_words, len(cand_words))\n",
    "\n",
    "    return set(filter(lambda w: is_word(w), cand_words))\n",
    "    \n",
    "x = nearby_words('him')\n",
    "x"
   ]
  },
  {
   "cell_type": "code",
   "execution_count": 107,
   "metadata": {
    "collapsed": false
   },
   "outputs": [
    {
     "data": {
      "text/plain": [
       "set()"
      ]
     },
     "execution_count": 107,
     "metadata": {},
     "output_type": "execute_result"
    }
   ],
   "source": [
    "nearby_words('')"
   ]
  },
  {
   "cell_type": "code",
   "execution_count": 116,
   "metadata": {
    "collapsed": false
   },
   "outputs": [
    {
     "name": "stdout",
     "output_type": "stream",
     "text": [
      "['h', 'i', 'm']\n",
      "set(['jim', 'jin', 'hkm', 'ykn', 'yik', 'yim', 'hik', 'jik', 'gom', 'yon', 'yom', 'gon', 'yok', 'gok', 'hon', 'hom', 'hok', 'ykm', 'him', 'gkk', 'gkm', 'hin', 'gkn', 'gin', 'gim', 'gik', 'hkk', 'jkn', 'hkn', 'jkk', 'jok', 'jom', 'jon', 'jkm', 'yin', 'ykk']) 36\n"
     ]
    },
    {
     "data": {
      "text/plain": [
       "{'gin', 'him', 'jim'}"
      ]
     },
     "execution_count": 116,
     "metadata": {},
     "output_type": "execute_result"
    }
   ],
   "source": [
    "def nearby_permutations(letters):\n",
    "    '''\n",
    "    '''\n",
    "    permutations = set([])\n",
    "    if not letters:\n",
    "        return {''}\n",
    "    sub_words = nearby_permutations(letters[1:])\n",
    "    nearby_chars = get_nearby_chars(letters[0])\n",
    "    \n",
    "    # ~<q>^N or sum_n^N q(n) or max(q)^N as ub\n",
    "    for each in sub_words:\n",
    "        for c in nearby_chars:\n",
    "            permutations.add(c + each)\n",
    "\n",
    "    return permutations\n",
    "\n",
    "def nearby_words(word):\n",
    "    '''\n",
    "    Replace only one char at a time.\n",
    "    \n",
    "    O(N) where N is the length of `word`\n",
    "    '''\n",
    "    if word == '':\n",
    "        return set([])\n",
    "    letters = list(word)\n",
    "    print(letters)\n",
    "    \n",
    "    cand_words = nearby_permutations(letters)\n",
    "    \n",
    "    print(cand_words, len(cand_words))\n",
    "\n",
    "    return set(filter(lambda w: is_word(w), cand_words))\n",
    "    \n",
    "x = nearby_words('him')\n",
    "x"
   ]
  },
  {
   "cell_type": "code",
   "execution_count": null,
   "metadata": {
    "collapsed": true
   },
   "outputs": [],
   "source": []
  },
  {
   "cell_type": "code",
   "execution_count": null,
   "metadata": {
    "collapsed": true
   },
   "outputs": [],
   "source": []
  },
  {
   "cell_type": "code",
   "execution_count": null,
   "metadata": {
    "collapsed": true
   },
   "outputs": [],
   "source": []
  },
  {
   "cell_type": "code",
   "execution_count": null,
   "metadata": {
    "collapsed": true
   },
   "outputs": [],
   "source": []
  }
 ],
 "metadata": {
  "kernelspec": {
   "display_name": "Python 2",
   "language": "python",
   "name": "python2"
  },
  "language_info": {
   "codemirror_mode": {
    "name": "ipython",
    "version": 2
   },
   "file_extension": ".py",
   "mimetype": "text/x-python",
   "name": "python",
   "nbconvert_exporter": "python",
   "pygments_lexer": "ipython2",
   "version": "2.7.10"
  }
 },
 "nbformat": 4,
 "nbformat_minor": 0
}
