{
 "cells": [
  {
   "cell_type": "code",
   "execution_count": 1,
   "metadata": {
    "collapsed": true
   },
   "outputs": [],
   "source": [
    "from __future__ import division, print_function"
   ]
  },
  {
   "cell_type": "code",
   "execution_count": 2,
   "metadata": {
    "collapsed": true
   },
   "outputs": [],
   "source": [
    "# a small \"nearby\" char map for the purpose of showing how this works\n",
    "kn = {}\n",
    "kn['g'] = ['g', 'h', 'f']\n",
    "kn['i'] = ['i', 'o', 'k']\n",
    "kn['h'] = ['h', 'g', 'j', 'y']\n",
    "kn['m'] = ['m', 'n', 'k']\n",
    "\n",
    "def get_nearby_chars(key_char):\n",
    "    '''\n",
    "    '''\n",
    "    try:\n",
    "        l = kn[key_char.lower()]\n",
    "    except KeyError:\n",
    "        l = []\n",
    "    return l"
   ]
  },
  {
   "cell_type": "code",
   "execution_count": 5,
   "metadata": {
    "collapsed": true
   },
   "outputs": [],
   "source": [
    "english_dict = {'hi', 'go', 'hello', 'him', 'jim', 'gin'}\n",
    "def is_word(word):\n",
    "    '''\n",
    "    \n",
    "    '''\n",
    "    return word in english_dict"
   ]
  },
  {
   "cell_type": "code",
   "execution_count": 6,
   "metadata": {
    "collapsed": true
   },
   "outputs": [],
   "source": [
    "def nearby_words_one(word):\n",
    "    '''\n",
    "    Replaces only one char at a time.\n",
    "    \n",
    "    O(N) where N is the length of `word`\n",
    "    '''\n",
    "    possible_words = []\n",
    "\n",
    "    for index, c in enumerate(word):\n",
    "        nearby_chars = get_nearby_chars(c)\n",
    "        for rep in nearby_chars:\n",
    "            cand_word = word[:index] + rep + word[index+1:]\n",
    "            if is_word(cand_word):\n",
    "                possible_words.append(cand_word)\n",
    "    return set(possible_words)"
   ]
  },
  {
   "cell_type": "code",
   "execution_count": 9,
   "metadata": {
    "collapsed": false
   },
   "outputs": [
    {
     "data": {
      "text/plain": [
       "({'go'}, {'go', 'hi'})"
      ]
     },
     "execution_count": 9,
     "metadata": {},
     "output_type": "execute_result"
    }
   ],
   "source": [
    "nearby_words_one('ho'), nearby_words_one('gi')"
   ]
  },
  {
   "cell_type": "code",
   "execution_count": 14,
   "metadata": {
    "collapsed": false
   },
   "outputs": [
    {
     "name": "stdout",
     "output_type": "stream",
     "text": [
      "['h', 'i', 'm']\n",
      "m ['m', 'n', 'k']\n",
      "i ['i', 'o', 'k']\n",
      "h ['h', 'g', 'j', 'y']\n"
     ]
    },
    {
     "data": {
      "text/plain": [
       "{'gin', 'him', 'jim'}"
      ]
     },
     "execution_count": 14,
     "metadata": {},
     "output_type": "execute_result"
    }
   ],
   "source": [
    "def nearby_permutations(letters, ix):\n",
    "    '''\n",
    "    '''\n",
    "    permutations = set([])\n",
    "    if ix >= len(letters):\n",
    "        return {''}\n",
    "    \n",
    "    sub_words = nearby_permutations(letters, ix+1)\n",
    "    #print(ix, sub_words)\n",
    "    nearby_chars = get_nearby_chars(letters[ix])\n",
    "    print(letters[ix], nearby_chars)\n",
    "    \n",
    "    # q^N\n",
    "    for each in sub_words:\n",
    "        for letter in nearby_chars:\n",
    "            permutations.add(letter + each)\n",
    "    \n",
    "    \n",
    "    return permutations\n",
    "\n",
    "def nearby_words(word):\n",
    "    '''\n",
    "    Replace any number of chars.\n",
    "    \n",
    "    '''\n",
    "    if word == '':\n",
    "        return set([])\n",
    "    letters = list(word)\n",
    "    print(letters)\n",
    "    \n",
    "    cand_words = nearby_permutations(letters, 0)\n",
    "    #print(cand_words, len(cand_words))\n",
    "\n",
    "    return set(filter(lambda w: is_word(w), cand_words))\n",
    "    \n",
    "x = nearby_words('him')\n",
    "x"
   ]
  },
  {
   "cell_type": "code",
   "execution_count": 15,
   "metadata": {
    "collapsed": false
   },
   "outputs": [
    {
     "data": {
      "text/plain": [
       "set()"
      ]
     },
     "execution_count": 15,
     "metadata": {},
     "output_type": "execute_result"
    }
   ],
   "source": [
    "nearby_words('')"
   ]
  },
  {
   "cell_type": "code",
   "execution_count": 21,
   "metadata": {
    "collapsed": false
   },
   "outputs": [
    {
     "name": "stdout",
     "output_type": "stream",
     "text": [
      "['h', 'i', 'm', 'h']\n"
     ]
    },
    {
     "data": {
      "text/plain": [
       "set()"
      ]
     },
     "execution_count": 21,
     "metadata": {},
     "output_type": "execute_result"
    }
   ],
   "source": [
    "def nearby_permutations_py(letters):\n",
    "    '''\n",
    "    '''\n",
    "    permutations = set([])\n",
    "    if not letters:\n",
    "        return {''}\n",
    "    sub_words = nearby_permutations(letters[1:])\n",
    "    nearby_chars = get_nearby_chars(letters[0])\n",
    "    \n",
    "    # ~<q>^N or sum_n^N q(n) or max(q)^N as ub\n",
    "    for each in sub_words:\n",
    "        for c in nearby_chars:\n",
    "            permutations.add(c + each)\n",
    "\n",
    "    return permutations\n",
    "\n",
    "def nearby_words_py(word):\n",
    "    '''\n",
    "    Replaces any number of chars.\n",
    "\n",
    "    A more pythonic version that doesn't index the char list.\n",
    "    '''\n",
    "    if word == '':\n",
    "        return set([])\n",
    "    letters = list(word)\n",
    "    print(letters)\n",
    "    \n",
    "    cand_words = nearby_permutations_py(letters)\n",
    "\n",
    "    return set(filter(lambda w: is_word(w), cand_words))\n",
    "    \n",
    "x = nearby_words_py('himh')\n",
    "x"
   ]
  },
  {
   "cell_type": "code",
   "execution_count": null,
   "metadata": {
    "collapsed": true
   },
   "outputs": [],
   "source": []
  },
  {
   "cell_type": "code",
   "execution_count": null,
   "metadata": {
    "collapsed": true
   },
   "outputs": [],
   "source": []
  },
  {
   "cell_type": "code",
   "execution_count": null,
   "metadata": {
    "collapsed": true
   },
   "outputs": [],
   "source": []
  },
  {
   "cell_type": "code",
   "execution_count": null,
   "metadata": {
    "collapsed": true
   },
   "outputs": [],
   "source": []
  }
 ],
 "metadata": {
  "kernelspec": {
   "display_name": "Python 2",
   "language": "python",
   "name": "python2"
  },
  "language_info": {
   "codemirror_mode": {
    "name": "ipython",
    "version": 2
   },
   "file_extension": ".py",
   "mimetype": "text/x-python",
   "name": "python",
   "nbconvert_exporter": "python",
   "pygments_lexer": "ipython2",
   "version": "2.7.10"
  }
 },
 "nbformat": 4,
 "nbformat_minor": 0
}
