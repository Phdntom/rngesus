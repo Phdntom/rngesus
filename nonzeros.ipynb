{
 "cells": [
  {
   "cell_type": "code",
   "execution_count": 1,
   "metadata": {
    "collapsed": false
   },
   "outputs": [
    {
     "data": {
      "text/plain": [
       "'[1, 0, 3, 0, 5]\\n\\n1, [1, 5, 3, 0, 5]\\n2, [1, 5, 3, 0, 5]\\n\\n\\nn elements, k zeros.'"
      ]
     },
     "execution_count": 1,
     "metadata": {},
     "output_type": "execute_result"
    }
   ],
   "source": [
    "\"\"\"The actual interview solution\"\"\"\n",
    "\n",
    "\"\"\"\n",
    "input: [1,0,3,0,5]\n",
    "return number of non-0s in the array.\n",
    "modify the array so that all non-zero elements are at the beginning. minimum number of writes.  \n",
    "output:  3, [1,3,5, 0, 0]\n",
    "    [3,1,5,x,x]\n",
    "\"\"\"    \n",
    "def function(array):\n",
    "    \n",
    "    right_index = len(array) - 1\n",
    "    count_non_zero = 0\n",
    "    for index, element in enumerate(array):\n",
    "        if right_index < index:\n",
    "            break\n",
    "        if element == 0:\n",
    "            # find non-zero from right end to replace this\n",
    "            for right in range(right_index, index, -1):\n",
    "                if array[right] != 0:\n",
    "                    right_index = right - 1\n",
    "                    array[index] = array[right]  # write\n",
    "                    break\n",
    "            else:\n",
    "                break\n",
    "        count_non_zero += 1\n",
    "        \n",
    "    return count_non_zero, array\n",
    "\n",
    "\"\"\"[1, 0, 3, 0, 5]\n",
    "\n",
    "1, [1, 5, 3, 0, 5]\n",
    "2, [1, 5, 3, 0, 5]\n",
    "\n",
    "\n",
    "n elements, k zeros.\"\"\"\n",
    "\n"
   ]
  },
  {
   "cell_type": "code",
   "execution_count": 17,
   "metadata": {
    "collapsed": true
   },
   "outputs": [],
   "source": [
    "def function(array):\n",
    "    # a check on the number of non-zero elemnts\n",
    "    num_zeros = len(filter(lambda x: x != 0, array))\n",
    "    \n",
    "    print(num_zeros)\n",
    "    right_index = len(array) - 1\n",
    "    count_non_zero = 0\n",
    "    # count the number of assignment operations, or `writes`\n",
    "    # which are presumed to be expensive\n",
    "    writes = 0\n",
    "    for index, element in enumerate(array):\n",
    "        if right_index < index:\n",
    "            break\n",
    "        \n",
    "        if element == 0:\n",
    "            # find non-zero from right end to replace this\n",
    "            for right in range(right_index, index, -1):\n",
    "                if array[right] != 0:\n",
    "                    right_index = right - 1\n",
    "                    array[index] = array[right]  # write\n",
    "                    writes += 1\n",
    "                    break\n",
    "            else:\n",
    "                break\n",
    "        count_non_zero += 1\n",
    "        \n",
    "        \n",
    "    assert(count_non_zero == num_zeros)\n",
    "    return count_non_zero, array, writes"
   ]
  },
  {
   "cell_type": "code",
   "execution_count": 20,
   "metadata": {
    "collapsed": false
   },
   "outputs": [
    {
     "name": "stdout",
     "output_type": "stream",
     "text": [
      "[3 0 3 2 1 0 2 0 2 1 1 2 2 3 1]\n",
      "[3 0 3 2 1 0 2 0 2 1 1 2 2 3 1]\n"
     ]
    }
   ],
   "source": [
    "import numpy as np\n",
    "a = np.random.randint(0, 4, 15).tolist()\n",
    "a = np.asarray(a)\n",
    "b = a.copy()\n",
    "print(a)\n",
    "print(b)"
   ]
  },
  {
   "cell_type": "code",
   "execution_count": 21,
   "metadata": {
    "collapsed": false
   },
   "outputs": [
    {
     "name": "stdout",
     "output_type": "stream",
     "text": [
      "12\n"
     ]
    },
    {
     "data": {
      "text/plain": [
       "(12, array([3, 1, 3, 2, 1, 3, 2, 2, 2, 1, 1, 2, 2, 3, 1]), 3)"
      ]
     },
     "execution_count": 21,
     "metadata": {},
     "output_type": "execute_result"
    }
   ],
   "source": [
    "function(a)"
   ]
  },
  {
   "cell_type": "code",
   "execution_count": 22,
   "metadata": {
    "collapsed": true
   },
   "outputs": [],
   "source": [
    "def function2(array):\n",
    "    count_non_zero = 0 \n",
    "    left_index = 0\n",
    "    right_index = len(array) - 1\n",
    "    while left_index <= right_index:\n",
    "        if array[left_index] == 0:\n",
    "            for search_index in range(right_index, left_index, -1):\n",
    "                if array[search_index] != 0:\n",
    "                    right_index = search_index - 1\n",
    "                    array[left_index] = array[search_index]\n",
    "                    break\n",
    "            else:\n",
    "                break\n",
    "        count_non_zero += 1\n",
    "        left_index += 1\n",
    "    return count_non_zero, array"
   ]
  },
  {
   "cell_type": "code",
   "execution_count": 23,
   "metadata": {
    "collapsed": false
   },
   "outputs": [
    {
     "data": {
      "text/plain": [
       "(12, array([3, 1, 3, 2, 1, 3, 2, 2, 2, 1, 1, 2, 2, 3, 1]))"
      ]
     },
     "execution_count": 23,
     "metadata": {},
     "output_type": "execute_result"
    }
   ],
   "source": [
    "function2(b)"
   ]
  },
  {
   "cell_type": "code",
   "execution_count": null,
   "metadata": {
    "collapsed": true
   },
   "outputs": [],
   "source": []
  }
 ],
 "metadata": {
  "kernelspec": {
   "display_name": "Python 2",
   "language": "python",
   "name": "python2"
  },
  "language_info": {
   "codemirror_mode": {
    "name": "ipython",
    "version": 2
   },
   "file_extension": ".py",
   "mimetype": "text/x-python",
   "name": "python",
   "nbconvert_exporter": "python",
   "pygments_lexer": "ipython2",
   "version": "2.7.10"
  }
 },
 "nbformat": 4,
 "nbformat_minor": 0
}
