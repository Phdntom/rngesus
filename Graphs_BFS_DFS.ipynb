{
 "cells": [
  {
   "cell_type": "code",
   "execution_count": 60,
   "metadata": {
    "collapsed": true
   },
   "outputs": [],
   "source": [
    "graph = {0: [1, 7],\n",
    "         1: [0, 2],\n",
    "         2: [1, 6],\n",
    "         3: [4],\n",
    "         4: [3, 5, 8],\n",
    "         5: [4, 6, 8],\n",
    "         6: [2, 5, 7],\n",
    "         7: [0, 6, 8],\n",
    "         8: [4, 5, 7]\n",
    "        }\n",
    "\n",
    "\n"
   ]
  },
  {
   "cell_type": "code",
   "execution_count": 61,
   "metadata": {
    "collapsed": false
   },
   "outputs": [
    {
     "name": "stdout",
     "output_type": "stream",
     "text": [
      "(0, [1, 7])\n",
      "(1, [0, 2])\n",
      "(2, [1, 6])\n",
      "(3, [4])\n",
      "(4, [3, 5, 8])\n",
      "(5, [4, 6, 8])\n",
      "(6, [2, 5, 7])\n",
      "(7, [0, 6, 8])\n",
      "(8, [4, 5, 7])\n"
     ]
    },
    {
     "data": {
      "text/plain": [
       "11"
      ]
     },
     "execution_count": 61,
     "metadata": {},
     "output_type": "execute_result"
    }
   ],
   "source": [
    "edge_count = 0\n",
    "for node in graph:\n",
    "    edges = graph[node]\n",
    "    edge_count += len(edges)\n",
    "    print(node, edges)\n",
    "edge_count / 2"
   ]
  },
  {
   "cell_type": "code",
   "execution_count": 62,
   "metadata": {
    "collapsed": true
   },
   "outputs": [],
   "source": [
    "def bfs(G, s):\n",
    "    \n",
    "    queue = [s]\n",
    "    explored = {s: 0}\n",
    "    while queue:\n",
    "        v = queue.pop(0)\n",
    "        for w in G[v]:\n",
    "            if w not in explored:\n",
    "                queue.append(w)\n",
    "                explored[w] = explored[v] + 1\n",
    "    return explored"
   ]
  },
  {
   "cell_type": "code",
   "execution_count": 63,
   "metadata": {
    "collapsed": false
   },
   "outputs": [],
   "source": [
    "dist_map = bfs(graph, 0)"
   ]
  },
  {
   "cell_type": "code",
   "execution_count": 64,
   "metadata": {
    "collapsed": false
   },
   "outputs": [
    {
     "data": {
      "text/plain": [
       "[(0, 0), (1, 1), (7, 1), (2, 2), (6, 2), (8, 2), (4, 3), (5, 3), (3, 4)]"
      ]
     },
     "execution_count": 64,
     "metadata": {},
     "output_type": "execute_result"
    }
   ],
   "source": [
    "sorted(dist_map.items(), key=lambda x: x[1])"
   ]
  },
  {
   "cell_type": "code",
   "execution_count": 69,
   "metadata": {
    "collapsed": true
   },
   "outputs": [],
   "source": [
    "def dfs(G, start):\n",
    "    \"\"\"\n",
    "    def dfs(graph, start):\n",
    "        visited, stack = set(), [start]\n",
    "        while stack:\n",
    "            vertex = stack.pop()\n",
    "            if vertex not in visited:\n",
    "                visited.add(vertex)\n",
    "                stack.extend(graph[vertex] - visited)\n",
    "        return visited\n",
    "    \n",
    "    \n",
    "    1  procedure DFS-iterative(G,v):\n",
    "    2      let S be a stack\n",
    "    3      S.push(v)\n",
    "    4      while S is not empty\n",
    "    5          v = S.pop()\n",
    "    6          if v is not labeled as discovered:\n",
    "    7              label v as discovered\n",
    "    8              for all edges from v to w in G.adjacentEdges(v) do \n",
    "    9                  S.push(w)\n",
    "    \"\"\"\n",
    "    visited, stack = {}, [start]\n",
    "    time = 0\n",
    "    while stack:\n",
    "        vertex = stack.pop()\n",
    "        if vertex not in visited:\n",
    "            visited[vertex] = time\n",
    "            for u in G[vertex]:\n",
    "                if u not in visited:\n",
    "                    stack.append(u)\n",
    "        time += 1\n",
    "    return visited"
   ]
  },
  {
   "cell_type": "code",
   "execution_count": 71,
   "metadata": {
    "collapsed": false
   },
   "outputs": [
    {
     "data": {
      "text/plain": [
       "[(0, 0), (7, 1), (8, 2), (5, 3), (6, 4), (2, 5), (1, 6), (4, 7), (3, 8)]"
      ]
     },
     "execution_count": 71,
     "metadata": {},
     "output_type": "execute_result"
    }
   ],
   "source": [
    "time_map = dfs(graph, 0)\n",
    "sorted(time_map.items(), key=lambda x: x[1])"
   ]
  },
  {
   "cell_type": "code",
   "execution_count": 58,
   "metadata": {
    "collapsed": false
   },
   "outputs": [],
   "source": [
    "def re_dfs(G, v, discov):\n",
    "    '''\n",
    "    1 procedure DFS(G,v):\n",
    "    2      label v as discovered\n",
    "    3      for all edges from v to w in G.adjacentEdges(v) do\n",
    "    4          if vertex w is not labeled as discovered then\n",
    "    5              recursively call DFS(G,w)\n",
    "    '''\n",
    "    discov.append(v)\n",
    "    print(discov)\n",
    "    for u in G[v]:\n",
    "        if u not in discov:\n",
    "            re_dfs(G, u, discov)\n",
    "    "
   ]
  },
  {
   "cell_type": "code",
   "execution_count": 59,
   "metadata": {
    "collapsed": false
   },
   "outputs": [
    {
     "name": "stdout",
     "output_type": "stream",
     "text": [
      "[0]\n",
      "[0, 1]\n",
      "[0, 1, 2]\n",
      "[0, 1, 2, 6]\n",
      "[0, 1, 2, 6, 5]\n",
      "[0, 1, 2, 6, 5, 4]\n",
      "[0, 1, 2, 6, 5, 4, 3]\n",
      "[0, 1, 2, 6, 5, 4, 3, 8]\n",
      "[0, 1, 2, 6, 5, 4, 3, 8, 7]\n"
     ]
    }
   ],
   "source": [
    "re_dfs(graph, 0, [])"
   ]
  },
  {
   "cell_type": "code",
   "execution_count": null,
   "metadata": {
    "collapsed": true
   },
   "outputs": [],
   "source": []
  }
 ],
 "metadata": {
  "kernelspec": {
   "display_name": "Python 2",
   "language": "python",
   "name": "python2"
  },
  "language_info": {
   "codemirror_mode": {
    "name": "ipython",
    "version": 2
   },
   "file_extension": ".py",
   "mimetype": "text/x-python",
   "name": "python",
   "nbconvert_exporter": "python",
   "pygments_lexer": "ipython2",
   "version": "2.7.10"
  }
 },
 "nbformat": 4,
 "nbformat_minor": 0
}
