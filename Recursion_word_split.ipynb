{
 "cells": [
  {
   "cell_type": "code",
   "execution_count": 28,
   "metadata": {
    "collapsed": true
   },
   "outputs": [],
   "source": [
    "word_set = set([\n",
    "        'happy',\n",
    "        'face',\n",
    "        'book',\n",
    "        'ball',\n",
    "        'basket',\n",
    "        'bask',\n",
    "        'palm',\n",
    "        'tree',\n",
    "        'facepalm',\n",
    "        'palmtree',\n",
    "        'basketball',\n",
    "        'riding',\n",
    "        'lawn',\n",
    "        'mower',\n",
    "        'lawnmower'\n",
    "        \n",
    "        \n",
    "    ])\n",
    "def is_word(word):\n",
    "    \n",
    "    return word in word_set"
   ]
  },
  {
   "cell_type": "code",
   "execution_count": 25,
   "metadata": {
    "collapsed": false
   },
   "outputs": [],
   "source": [
    "def subwords(word):\n",
    "    \n",
    "    splits = []\n",
    "    \n",
    "    index = 1\n",
    "    for index in range(1, len(word)):\n",
    "        lhs, rhs = word[:index], word[index:]\n",
    "        if is_word(lhs):\n",
    "            if is_word(rhs):\n",
    "                splits.append((lhs, rhs))\n",
    "            rsubs = subwords(rhs)\n",
    "            for each in rsubs:\n",
    "                splits.append((lhs, each))\n",
    "    return splits\n",
    "    "
   ]
  },
  {
   "cell_type": "code",
   "execution_count": 27,
   "metadata": {
    "collapsed": false
   },
   "outputs": [
    {
     "data": {
      "text/plain": [
       "[('face', 'book')]"
      ]
     },
     "execution_count": 27,
     "metadata": {},
     "output_type": "execute_result"
    }
   ],
   "source": [
    "subwords('facebook')"
   ]
  },
  {
   "cell_type": "code",
   "execution_count": 29,
   "metadata": {
    "collapsed": false
   },
   "outputs": [
    {
     "data": {
      "text/plain": [
       "[('riding', 'lawnmower'), ('riding', ('lawn', 'mower'))]"
      ]
     },
     "execution_count": 29,
     "metadata": {},
     "output_type": "execute_result"
    }
   ],
   "source": [
    "subwords('ridinglawnmower')"
   ]
  },
  {
   "cell_type": "code",
   "execution_count": 26,
   "metadata": {
    "collapsed": false
   },
   "outputs": [
    {
     "data": {
      "text/plain": [
       "[('basket', ('ball', ('face', 'palmtree'))),\n",
       " ('basket', ('ball', ('face', ('palm', 'tree')))),\n",
       " ('basket', ('ball', ('facepalm', 'tree'))),\n",
       " ('basketball', ('face', 'palmtree')),\n",
       " ('basketball', ('face', ('palm', 'tree'))),\n",
       " ('basketball', ('facepalm', 'tree'))]"
      ]
     },
     "execution_count": 26,
     "metadata": {},
     "output_type": "execute_result"
    }
   ],
   "source": [
    "subwords('basketballfacepalmtree')"
   ]
  }
 ],
 "metadata": {
  "kernelspec": {
   "display_name": "Python 2",
   "language": "python",
   "name": "python2"
  },
  "language_info": {
   "codemirror_mode": {
    "name": "ipython",
    "version": 2
   },
   "file_extension": ".py",
   "mimetype": "text/x-python",
   "name": "python",
   "nbconvert_exporter": "python",
   "pygments_lexer": "ipython2",
   "version": "2.7.10"
  }
 },
 "nbformat": 4,
 "nbformat_minor": 0
}
