{
 "cells": [
  {
   "cell_type": "code",
   "execution_count": 2,
   "metadata": {
    "collapsed": true
   },
   "outputs": [],
   "source": [
    "from __future__ import division, print_function"
   ]
  },
  {
   "cell_type": "code",
   "execution_count": 3,
   "metadata": {
    "collapsed": true
   },
   "outputs": [],
   "source": [
    "import numpy as np"
   ]
  },
  {
   "cell_type": "code",
   "execution_count": 21,
   "metadata": {
    "collapsed": false
   },
   "outputs": [
    {
     "data": {
      "text/plain": [
       "array([22, 25, 39, 74, 84, 11,  8, 60, 60, 79])"
      ]
     },
     "execution_count": 21,
     "metadata": {},
     "output_type": "execute_result"
    }
   ],
   "source": [
    "nums = np.random.random_integers(0, 99, 10)\n",
    "nums"
   ]
  },
  {
   "cell_type": "code",
   "execution_count": null,
   "metadata": {
    "collapsed": false
   },
   "outputs": [],
   "source": []
  },
  {
   "cell_type": "code",
   "execution_count": 30,
   "metadata": {
    "collapsed": false
   },
   "outputs": [
    {
     "name": "stdout",
     "output_type": "stream",
     "text": [
      "22\n",
      "[0]\n",
      "[100, 22]\n",
      "[0]\n",
      "[100, 22]\n",
      "3 22 22 22.0\n",
      "\n",
      "25\n",
      "[0]\n",
      "[100, 22, 25]\n",
      "[0, 22]\n",
      "[100, 25]\n",
      "4 25 (22, 25) 23.5\n",
      "\n",
      "39\n",
      "[0, 22]\n",
      "[100, 25, 39]\n",
      "[0, 22]\n",
      "[100, 25, 39]\n",
      "5 39 25 25.0\n",
      "\n",
      "74\n",
      "[0, 22]\n",
      "[100, 25, 39, 74]\n",
      "[0, 22, 25]\n",
      "[100, 39, 74]\n",
      "6 74 (25, 39) 32.0\n",
      "\n",
      "84\n",
      "[0, 22, 25]\n",
      "[100, 39, 74, 84]\n",
      "[0, 22, 25]\n",
      "[100, 39, 74, 84]\n",
      "7 84 39 39.0\n",
      "\n",
      "11\n",
      "[0, 22, 25, 11]\n",
      "[100, 39, 74, 84]\n",
      "[0, 22, 25, 11]\n",
      "[100, 39, 74, 84]\n",
      "8 11 (25, 39) 32.0\n",
      "\n",
      "8\n",
      "[0, 22, 25, 11, 8]\n",
      "[100, 39, 74, 84]\n",
      "[0, 22, 25, 11, 8]\n",
      "[100, 39, 74, 84]\n",
      "9 8 25 25.0\n",
      "\n",
      "60\n",
      "[0, 22, 25, 11, 8]\n",
      "[100, 39, 74, 84, 60]\n",
      "[0, 22, 25, 11, 8]\n",
      "[100, 39, 74, 84, 60]\n",
      "10 60 (25, 39) 32.0\n",
      "\n",
      "60\n",
      "[0, 22, 25, 11, 8]\n",
      "[100, 39, 74, 84, 60, 60]\n",
      "[0, 22, 25, 11, 8]\n",
      "[100, 39, 74, 84, 60, 60]\n",
      "11 60 39 39.0\n",
      "\n",
      "79\n",
      "[0, 22, 25, 11, 8]\n",
      "[100, 39, 74, 84, 60, 60, 79]\n",
      "[0, 22, 25, 11, 8, 39]\n",
      "[100, 74, 84, 60, 60, 79]\n",
      "12 79 (39, 60) 49.5\n",
      "\n"
     ]
    }
   ],
   "source": [
    "max_heap_lower = [0]\n",
    "min_heap_upper = [100]\n",
    "lower_count = 1\n",
    "upper_count = 1\n",
    "check = [0, 100]\n",
    "for num in nums:\n",
    "    print(num)\n",
    "    max_lower = max(max_heap_lower)\n",
    "    min_upper = min(min_heap_upper)\n",
    "    #print(max_lower, min_upper)\n",
    "    if num < max_lower:\n",
    "        max_heap_lower.append(num)\n",
    "        lower_count += 1\n",
    "    else: # num >= min_upper or it's in the middle\n",
    "        min_heap_upper.append(num)\n",
    "        upper_count += 1\n",
    "    print(max_heap_lower)\n",
    "    print(min_heap_upper)    \n",
    "    # stay within 1 balanced  \n",
    "    if lower_count > upper_count + 1:\n",
    "        max_lower = max(max_heap_lower)\n",
    "        max_heap_lower.remove(max_lower)\n",
    "        min_heap_upper.append(max_lower)\n",
    "        lower_count -= 1\n",
    "        upper_count += 1\n",
    "    elif upper_count > lower_count + 1:\n",
    "        min_upper = min(min_heap_upper)\n",
    "        min_heap_upper.remove(min_upper)\n",
    "        max_heap_lower.append(min_upper)\n",
    "        upper_count -= 1\n",
    "        lower_count += 1\n",
    "\n",
    "    print(max_heap_lower)\n",
    "    print(min_heap_upper)\n",
    "    if lower_count > upper_count:\n",
    "        median = max(max_heap_lower)\n",
    "    elif upper_count > lower_count:\n",
    "        median = min(min_heap_upper)\n",
    "    else:\n",
    "        median = max(max_heap_lower), min(min_heap_upper)\n",
    "    check.append(num)\n",
    "    \n",
    "    print(lower_count + upper_count, num, median, np.median(check)) \n",
    "    print() "
   ]
  },
  {
   "cell_type": "code",
   "execution_count": 1,
   "metadata": {
    "collapsed": true
   },
   "outputs": [],
   "source": [
    "\n"
   ]
  },
  {
   "cell_type": "code",
   "execution_count": null,
   "metadata": {
    "collapsed": true
   },
   "outputs": [],
   "source": []
  },
  {
   "cell_type": "code",
   "execution_count": null,
   "metadata": {
    "collapsed": true
   },
   "outputs": [],
   "source": []
  },
  {
   "cell_type": "code",
   "execution_count": null,
   "metadata": {
    "collapsed": true
   },
   "outputs": [],
   "source": []
  },
  {
   "cell_type": "code",
   "execution_count": null,
   "metadata": {
    "collapsed": true
   },
   "outputs": [],
   "source": []
  }
 ],
 "metadata": {
  "kernelspec": {
   "display_name": "Python 2",
   "language": "python",
   "name": "python2"
  },
  "language_info": {
   "codemirror_mode": {
    "name": "ipython",
    "version": 2
   },
   "file_extension": ".py",
   "mimetype": "text/x-python",
   "name": "python",
   "nbconvert_exporter": "python",
   "pygments_lexer": "ipython2",
   "version": "2.7.10"
  }
 },
 "nbformat": 4,
 "nbformat_minor": 0
}
