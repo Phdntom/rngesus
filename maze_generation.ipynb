{
 "cells": [
  {
   "cell_type": "code",
   "execution_count": 1,
   "metadata": {
    "collapsed": true
   },
   "outputs": [],
   "source": [
    "from __future__ import division, print_function"
   ]
  },
  {
   "cell_type": "code",
   "execution_count": 2,
   "metadata": {
    "collapsed": true
   },
   "outputs": [],
   "source": [
    "import numpy as np"
   ]
  },
  {
   "cell_type": "code",
   "execution_count": 225,
   "metadata": {
    "collapsed": false
   },
   "outputs": [],
   "source": [
    "height = 6\n",
    "width = 8"
   ]
  },
  {
   "cell_type": "code",
   "execution_count": 226,
   "metadata": {
    "collapsed": false
   },
   "outputs": [
    {
     "data": {
      "text/plain": [
       "[['S', 'E', 'SWE', 'WE', 'WE', 'WE', 'WE', 'WS'],\n",
       " ['NE', 'WE', 'WN', 'ES', 'SEW', 'WSE', 'W', 'NS'],\n",
       " ['SE', 'W', 'ES', 'NW', 'SN', 'N', 'ES', 'NW'],\n",
       " ['EN', 'SW', 'NE', 'WS', 'SN', 'ES', 'NW', 'S'],\n",
       " ['SE', 'WEN', 'W', 'NS', 'EN', 'NW', 'E', 'SNW'],\n",
       " ['EN', 'EW', 'EW', 'NEW', 'WE', 'WE', 'WE', 'WN']]"
      ]
     },
     "execution_count": 226,
     "metadata": {},
     "output_type": "execute_result"
    }
   ],
   "source": [
    "# RECURSIVE DEPTH FIRST SEARCH SOLUTION\n",
    "# utilizes a random edge selector step.\n",
    "\n",
    "def is_valid(i, j):\n",
    "    return i >= 0 and i < height and j >= 0 and j < width and V[i,j] == 0\n",
    "\n",
    "directions = ['N', 'E', 'S', 'W']\n",
    "opposites = {'W': 'E', 'E': 'W', 'N': 'S', 'S': 'N'}\n",
    "moves = {'W': (0, -1), 'E': (0, 1), 'S': (1, 0), 'N': (-1, 0)}\n",
    "\n",
    "M = [['' for _ in range(width)] for _ in range(height)]\n",
    "V = np.zeros(shape=(height, width))\n",
    "start = (0, 0)\n",
    "\n",
    "def dfs_maze(v):\n",
    "    '''\n",
    "    Recurse DFS for max building with random shuffling\n",
    "    of directions explored at each vertex.\n",
    "    \n",
    "    '''\n",
    "    i = v[0]\n",
    "    j = v[1]\n",
    "    V[i, j] = 1\n",
    "    directions = ['N', 'E', 'S', 'W']\n",
    "    np.random.shuffle(directions)\n",
    "    for d in directions:\n",
    "        step = moves[d]\n",
    "        i_t = i + step[0]\n",
    "        j_t = j + step[1]\n",
    "        if is_valid(i_t, j_t):\n",
    "            M[i][j] += d\n",
    "            M[i_t][j_t] += opposites[d]\n",
    "            dfs_maze((i_t, j_t))\n",
    "\n",
    "dfs_maze(start)\n",
    "M"
   ]
  },
  {
   "cell_type": "code",
   "execution_count": 227,
   "metadata": {
    "collapsed": false
   },
   "outputs": [
    {
     "data": {
      "text/plain": [
       "[['xSE', 'WES', 'WSE', 'SWE', 'WSE', 'WES', 'WSE', 'SW'],\n",
       " ['NES', 'NSEW', 'WSNE', 'WSEN', 'WNES', 'NSEW', 'WESN', 'SNW'],\n",
       " ['NES', 'NWES', 'SENW', 'WNES', 'NWSE', 'NWES', 'WSEN', 'SWN'],\n",
       " ['NES', 'WSEN', 'SWEN', 'WESN', 'NESW', 'NWSE', 'WNES', 'WSN'],\n",
       " ['NSE', 'WNSE', 'WSEN', 'WENS', 'SEWN', 'NESW', 'NWSE', 'WNS'],\n",
       " ['NE', 'NEW', 'NEW', 'ENW', 'EWN', 'ENW', 'NEW', 'NW']]"
      ]
     },
     "execution_count": 227,
     "metadata": {},
     "output_type": "execute_result"
    }
   ],
   "source": [
    "# BFS iterative solution\n",
    "# Works but the representation using cardinal directions does not define the maze well.\n",
    "V = np.zeros(shape=(height, width))\n",
    "M2 = [['' for _ in range(width)] for _ in range(height)]\n",
    "M2[0][0] += 'x'\n",
    "\n",
    "stack = []\n",
    "start = (0, 0)\n",
    "stack.append(start)\n",
    "\n",
    "def in_bounds(i, j):\n",
    "    return i >= 0 and i < height and j >= 0 and j < width\n",
    "\n",
    "count = 0\n",
    "while stack:\n",
    "    v = stack.pop()\n",
    "    i = v[0]\n",
    "    j = v[1]\n",
    "    if V[i, j] == 0:\n",
    "        count += 1\n",
    "        V[i, j] = 1\n",
    "        # random edge finder\n",
    "        directions = ['N', 'E', 'S', 'W']\n",
    "        np.random.shuffle(directions)\n",
    "        for d in directions:\n",
    "            step = moves[d]\n",
    "            i_t = i + step[0]\n",
    "            j_t = j + step[1]\n",
    "            w = (i_t, j_t)\n",
    "            if in_bounds(i_t, j_t) and V[i_t, j_t] == 0:\n",
    "                stack.append(w)\n",
    "                M2[i][j] += d\n",
    "                M2[i_t][j_t] += opposites[d]\n",
    "                #print(i_t, j_t)\n",
    "\n",
    "count\n",
    "M2"
   ]
  },
  {
   "cell_type": "code",
   "execution_count": 195,
   "metadata": {
    "collapsed": true
   },
   "outputs": [],
   "source": []
  },
  {
   "cell_type": "code",
   "execution_count": 220,
   "metadata": {
    "collapsed": false
   },
   "outputs": [
    {
     "name": "stdout",
     "output_type": "stream",
     "text": [
      "* * * * \n",
      "* * * * \n",
      "* * * * \n"
     ]
    },
    {
     "data": {
      "text/plain": [
       "(17, 12)"
      ]
     },
     "execution_count": 220,
     "metadata": {},
     "output_type": "execute_result"
    }
   ],
   "source": [
    "# KRUSKALS\n",
    "\n",
    "height = 3\n",
    "width = 4\n",
    "G_edge = []\n",
    "\n",
    "q_vec = [(0, 1), (1, 0)]\n",
    "for i in range(height):\n",
    "    for j in range(width):\n",
    "        print('*', end=' ')\n",
    "        for v in q_vec:\n",
    "            i_t = i + v[0]\n",
    "            j_t = j + v[1]\n",
    "            if i_t < height and j_t < width:\n",
    "                edge = ((i, j), (i_t, j_t))\n",
    "                G_edge.append(edge)\n",
    "    print()\n",
    "    \n",
    "G_node = set([])\n",
    "for u, v in G_edge:\n",
    "    G_node.add(u)\n",
    "    G_node.add(v)\n",
    "G_node = list(G_node)\n",
    "    \n",
    "len(G_edge), len(G_node)"
   ]
  },
  {
   "cell_type": "code",
   "execution_count": 222,
   "metadata": {
    "collapsed": false
   },
   "outputs": [
    {
     "ename": "TypeError",
     "evalue": "unhashable type: 'set'",
     "output_type": "error",
     "traceback": [
      "\u001b[0;31m---------------------------------------------------------------------------\u001b[0m",
      "\u001b[0;31mTypeError\u001b[0m                                 Traceback (most recent call last)",
      "\u001b[0;32m<ipython-input-222-959e0cd8448a>\u001b[0m in \u001b[0;36m<module>\u001b[0;34m()\u001b[0m\n\u001b[1;32m      1\u001b[0m \u001b[0mF\u001b[0m \u001b[0;34m=\u001b[0m \u001b[0mset\u001b[0m\u001b[0;34m(\u001b[0m\u001b[0;34m[\u001b[0m\u001b[0;34m]\u001b[0m\u001b[0;34m)\u001b[0m\u001b[0;34m\u001b[0m\u001b[0m\n\u001b[1;32m      2\u001b[0m \u001b[0;32mfor\u001b[0m \u001b[0mv\u001b[0m \u001b[0;32min\u001b[0m \u001b[0mG_node\u001b[0m\u001b[0;34m:\u001b[0m\u001b[0;34m\u001b[0m\u001b[0m\n\u001b[0;32m----> 3\u001b[0;31m     \u001b[0mF\u001b[0m\u001b[0;34m.\u001b[0m\u001b[0madd\u001b[0m\u001b[0;34m(\u001b[0m\u001b[0mset\u001b[0m\u001b[0;34m(\u001b[0m\u001b[0mv\u001b[0m\u001b[0;34m)\u001b[0m\u001b[0;34m)\u001b[0m\u001b[0;34m\u001b[0m\u001b[0m\n\u001b[0m\u001b[1;32m      4\u001b[0m \u001b[0mF\u001b[0m\u001b[0;34m\u001b[0m\u001b[0m\n",
      "\u001b[0;31mTypeError\u001b[0m: unhashable type: 'set'"
     ]
    }
   ],
   "source": []
  },
  {
   "cell_type": "code",
   "execution_count": null,
   "metadata": {
    "collapsed": true
   },
   "outputs": [],
   "source": []
  }
 ],
 "metadata": {
  "kernelspec": {
   "display_name": "Python 2",
   "language": "python",
   "name": "python2"
  },
  "language_info": {
   "codemirror_mode": {
    "name": "ipython",
    "version": 2
   },
   "file_extension": ".py",
   "mimetype": "text/x-python",
   "name": "python",
   "nbconvert_exporter": "python",
   "pygments_lexer": "ipython2",
   "version": "2.7.10"
  }
 },
 "nbformat": 4,
 "nbformat_minor": 0
}
