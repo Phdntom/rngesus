{
 "cells": [
  {
   "cell_type": "code",
   "execution_count": null,
   "metadata": {
    "collapsed": true
   },
   "outputs": [],
   "source": []
  },
  {
   "cell_type": "code",
   "execution_count": null,
   "metadata": {
    "collapsed": true
   },
   "outputs": [],
   "source": []
  },
  {
   "cell_type": "code",
   "execution_count": 1,
   "metadata": {
    "collapsed": true
   },
   "outputs": [],
   "source": [
    "height = 10\n",
    "width = 15\n"
   ]
  },
  {
   "cell_type": "code",
   "execution_count": 2,
   "metadata": {
    "collapsed": true
   },
   "outputs": [],
   "source": [
    "\n"
   ]
  },
  {
   "cell_type": "code",
   "execution_count": 12,
   "metadata": {
    "collapsed": false
   },
   "outputs": [
    {
     "data": {
      "text/plain": [
       "[(2, 1), (0, 1), (1, 0), (1, 2)]"
      ]
     },
     "execution_count": 12,
     "metadata": {},
     "output_type": "execute_result"
    }
   ],
   "source": [
    "def neighbors(cell):\n",
    "    \n",
    "    i, j = cell\n",
    "    square = [(i+1, j), (i-1, j), (i, j-1), (i, j+1)]\n",
    "    for n in square:\n",
    "        if n[1] >= height or n[1] < 0:\n",
    "            continue\n",
    "        if n[0] >= width or n[0] < 0:\n",
    "            continue\n",
    "        yield n\n",
    "list(neighbors((1, 1)))"
   ]
  },
  {
   "cell_type": "code",
   "execution_count": 10,
   "metadata": {
    "collapsed": false
   },
   "outputs": [
    {
     "data": {
      "text/plain": [
       "[(2, 1), (0, 1), (1, 0), (1, 2)]"
      ]
     },
     "execution_count": 10,
     "metadata": {},
     "output_type": "execute_result"
    }
   ],
   "source": []
  },
  {
   "cell_type": "code",
   "execution_count": null,
   "metadata": {
    "collapsed": true
   },
   "outputs": [],
   "source": [
    "# maze rep as map of cells -> open walls\n",
    "# keys are (i, j) tuples\n",
    "# values are list of cells to which you can travel"
   ]
  },
  {
   "cell_type": "code",
   "execution_count": 30,
   "metadata": {
    "collapsed": false
   },
   "outputs": [
    {
     "data": {
      "text/plain": [
       "0.44483756270871644"
      ]
     },
     "execution_count": 30,
     "metadata": {},
     "output_type": "execute_result"
    }
   ],
   "source": [
    "import numpy as np\n",
    "np.random.rand()"
   ]
  },
  {
   "cell_type": "code",
   "execution_count": 49,
   "metadata": {
    "collapsed": false
   },
   "outputs": [
    {
     "data": {
      "text/plain": [
       "(30, 30)"
      ]
     },
     "execution_count": 49,
     "metadata": {},
     "output_type": "execute_result"
    }
   ],
   "source": [
    "from collections import defaultdict\n",
    "\n",
    "\n",
    "def get_neighbors(cell, height, width):\n",
    "    \n",
    "    i, j = cell\n",
    "    square = [(i+1, j), (i-1, j), (i, j-1), (i, j+1)]\n",
    "    for n in square:\n",
    "        if n[0] >= height or n[0] < 0:\n",
    "            continue\n",
    "        if n[1] >= width or n[1] < 0:\n",
    "            continue\n",
    "        yield n\n",
    "        \n",
    "def maze_gen(height, width):\n",
    "    maze = set() # maze is a set of edges from cell to cell which allow travel (no wall present)\n",
    "    cur = '', (0, 0) # maze entered here\n",
    "    stack, visited = [cur], set()\n",
    "    while stack:\n",
    "        v, c = stack.pop()\n",
    "        if c not in visited:\n",
    "            visited.add(c)\n",
    "            maze.add((v, c))\n",
    "            neighbors = list(get_neighbors(c, height, width))\n",
    "            np.random.shuffle(neighbors)\n",
    "            stack.extend([(c, w) for w in neighbors if w not in visited])\n",
    "    return visited, maze\n",
    "cells, maze_set = maze_gen(5, 6)\n",
    "len(cells), len(maze_set)"
   ]
  },
  {
   "cell_type": "code",
   "execution_count": 28,
   "metadata": {
    "collapsed": false
   },
   "outputs": [
    {
     "data": {
      "text/plain": [
       "defaultdict(list, {})"
      ]
     },
     "execution_count": 28,
     "metadata": {},
     "output_type": "execute_result"
    }
   ],
   "source": [
    "\n"
   ]
  },
  {
   "cell_type": "code",
   "execution_count": null,
   "metadata": {
    "collapsed": true
   },
   "outputs": [],
   "source": []
  },
  {
   "cell_type": "code",
   "execution_count": null,
   "metadata": {
    "collapsed": true
   },
   "outputs": [],
   "source": []
  }
 ],
 "metadata": {
  "kernelspec": {
   "display_name": "Python 2",
   "language": "python",
   "name": "python2"
  },
  "language_info": {
   "codemirror_mode": {
    "name": "ipython",
    "version": 2
   },
   "file_extension": ".py",
   "mimetype": "text/x-python",
   "name": "python",
   "nbconvert_exporter": "python",
   "pygments_lexer": "ipython2",
   "version": "2.7.10"
  }
 },
 "nbformat": 4,
 "nbformat_minor": 0
}
