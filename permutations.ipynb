{
 "cells": [
  {
   "cell_type": "code",
   "execution_count": 79,
   "metadata": {
    "collapsed": true
   },
   "outputs": [],
   "source": [
    "from __future__ import division, print_function"
   ]
  },
  {
   "cell_type": "markdown",
   "metadata": {},
   "source": [
    "Three parts:\n",
    "\n",
    "1) Compute permutations of an input string.\n",
    "\n",
    "2) Compute permutations of an input string using good space complexity.\n",
    "\n",
    "3) Compute permutations of an input string without making duplicates and withe good space complexity."
   ]
  },
  {
   "cell_type": "code",
   "execution_count": 137,
   "metadata": {
    "collapsed": false
   },
   "outputs": [
    {
     "data": {
      "text/plain": [
       "(['abc', 'acb', 'bac', 'bca', 'cab', 'cba'],\n",
       " ['aba', 'aab', 'baa', 'baa', 'aba', 'aab'])"
      ]
     },
     "execution_count": 137,
     "metadata": {},
     "output_type": "execute_result"
    }
   ],
   "source": [
    "def permutations(string):\n",
    "    '''Finds permuations recursively using space complexity ~ O(N! N^2 ) yikes...\n",
    "    \n",
    "    N! from the number of items in the final list you keep.\n",
    "    N^2 from a given branch of the recursion which will each have partial lists like:\n",
    "    N + N-1 + N-2 ... 1 = ~ O(N^2)\n",
    "    \n",
    "    '''\n",
    "    chars = list(string)\n",
    "    \n",
    "    if not chars:\n",
    "        return ['']\n",
    "    \n",
    "    ls = []\n",
    "    for x in chars:\n",
    "        char_cp = [y for y in chars]\n",
    "        #print(char_cp) # shows how much memory you are using\n",
    "        char_cp.remove(x)\n",
    "        sub_perms = permutations(char_cp)\n",
    "        \n",
    "        for sub in sub_perms:\n",
    "            ls.append(x + sub)\n",
    "        #print(x, ls)\n",
    "    return ls\n",
    "permutations('abc'), permutations('aba')"
   ]
  },
  {
   "cell_type": "code",
   "execution_count": null,
   "metadata": {
    "collapsed": false
   },
   "outputs": [],
   "source": []
  },
  {
   "cell_type": "code",
   "execution_count": 138,
   "metadata": {
    "collapsed": false
   },
   "outputs": [
    {
     "data": {
      "text/plain": [
       "(['abc', 'acb', 'bac', 'bca', 'cab', 'cba'],\n",
       " ['aba', 'aab', 'baa', 'baa', 'aba', 'aab'])"
      ]
     },
     "execution_count": 138,
     "metadata": {},
     "output_type": "execute_result"
    }
   ],
   "source": [
    "def perm_gen(string):\n",
    "    '''Generates permutations using N^2 space.'''\n",
    "    chars = list(string)\n",
    "    \n",
    "    if not chars:\n",
    "        yield ''\n",
    "    else:\n",
    "        for x in chars:\n",
    "            char_cp = [y for y in chars]\n",
    "            char_cp.remove(x)\n",
    "            \n",
    "            sub_string = ''.join(char_cp)\n",
    "            sub_perms = perm_gen(sub_string)\n",
    "            for sub in sub_perms:\n",
    "                yield x + sub\n",
    "[x for x in perm_gen('abc')], [x for x in perm_gen('aba')]"
   ]
  },
  {
   "cell_type": "code",
   "execution_count": 177,
   "metadata": {
    "collapsed": false
   },
   "outputs": [
    {
     "data": {
      "text/plain": [
       "(['abba', 'abab', 'aabb', 'baba', 'baab', 'bbaa'],\n",
       " ['bbca',\n",
       "  'bbac',\n",
       "  'bcba',\n",
       "  'bcab',\n",
       "  'babc',\n",
       "  'bacb',\n",
       "  'cbba',\n",
       "  'cbab',\n",
       "  'cabb',\n",
       "  'abbc',\n",
       "  'abcb',\n",
       "  'acbb'])"
      ]
     },
     "execution_count": 177,
     "metadata": {},
     "output_type": "execute_result"
    }
   ],
   "source": [
    "def perm_gen_nodup(string):\n",
    "    '''Generates permutations using N^2 space with no duplicates!!!'''\n",
    "    chars = list(string)\n",
    "    \n",
    "    if not chars:\n",
    "        yield ''\n",
    "    else:\n",
    "        chars_exp = set() # this is only created along the current branch in the recursion\n",
    "                          # therefore N + N-1 + N-2 ... 1 = N^2\n",
    "        for x in chars:\n",
    "            if x in chars_exp:\n",
    "                continue\n",
    "            else:\n",
    "                chars_exp.add(x)\n",
    "            char_cp = [y for y in chars]\n",
    "            char_cp.remove(x)\n",
    "            sub_string = ''.join(char_cp)\n",
    "            sub_perms = perm_gen_nodup(sub_string)\n",
    "            for sub in sub_perms:\n",
    "                yield x + sub\n",
    "[x for x in perm_gen_nodup('abba')], [x for x in perm_gen_nodup('bbca')]"
   ]
  },
  {
   "cell_type": "code",
   "execution_count": 159,
   "metadata": {
    "collapsed": false
   },
   "outputs": [
    {
     "data": {
      "text/plain": [
       "1505255104.177336"
      ]
     },
     "execution_count": 159,
     "metadata": {},
     "output_type": "execute_result"
    }
   ],
   "source": [
    "import time\n",
    "time.time()"
   ]
  },
  {
   "cell_type": "code",
   "execution_count": 170,
   "metadata": {
    "collapsed": true
   },
   "outputs": [],
   "source": [
    "seq = 'abbacedf'"
   ]
  },
  {
   "cell_type": "code",
   "execution_count": 174,
   "metadata": {
    "collapsed": false
   },
   "outputs": [
    {
     "data": {
      "text/plain": [
       "(40320, 0.16857099533081055)"
      ]
     },
     "execution_count": 174,
     "metadata": {},
     "output_type": "execute_result"
    }
   ],
   "source": [
    "count = 0\n",
    "start = time.time()\n",
    "for x in perm_gen(seq):\n",
    "    count += 1\n",
    "end = time.time()\n",
    "count, end - start"
   ]
  },
  {
   "cell_type": "code",
   "execution_count": 175,
   "metadata": {
    "collapsed": false
   },
   "outputs": [
    {
     "data": {
      "text/plain": [
       "(40320, 0.16235089302062988)"
      ]
     },
     "execution_count": 175,
     "metadata": {},
     "output_type": "execute_result"
    }
   ],
   "source": [
    "count = 0\n",
    "start = time.time()\n",
    "for x in permutations(seq):\n",
    "    count += 1\n",
    "end = time.time()\n",
    "count, end - start"
   ]
  },
  {
   "cell_type": "code",
   "execution_count": 176,
   "metadata": {
    "collapsed": false
   },
   "outputs": [
    {
     "data": {
      "text/plain": [
       "(10080, 0.05855989456176758)"
      ]
     },
     "execution_count": 176,
     "metadata": {},
     "output_type": "execute_result"
    }
   ],
   "source": [
    "count = 0\n",
    "start = time.time()\n",
    "for x in perm_gen_nodup(seq):\n",
    "    count += 1\n",
    "end = time.time()\n",
    "count, end - start"
   ]
  },
  {
   "cell_type": "code",
   "execution_count": null,
   "metadata": {
    "collapsed": true
   },
   "outputs": [],
   "source": []
  }
 ],
 "metadata": {
  "kernelspec": {
   "display_name": "Python 2",
   "language": "python",
   "name": "python2"
  },
  "language_info": {
   "codemirror_mode": {
    "name": "ipython",
    "version": 2
   },
   "file_extension": ".py",
   "mimetype": "text/x-python",
   "name": "python",
   "nbconvert_exporter": "python",
   "pygments_lexer": "ipython2",
   "version": "2.7.10"
  }
 },
 "nbformat": 4,
 "nbformat_minor": 0
}
