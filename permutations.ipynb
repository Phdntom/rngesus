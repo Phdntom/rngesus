{
 "cells": [
  {
   "cell_type": "code",
   "execution_count": 1,
   "metadata": {
    "collapsed": true
   },
   "outputs": [],
   "source": [
    "from __future__ import division, print_function"
   ]
  },
  {
   "cell_type": "markdown",
   "metadata": {},
   "source": [
    "Three parts:\n",
    "\n",
    "1) Compute permutations of an input string.\n",
    "\n",
    "2) Compute permutations of an input string using good space complexity.\n",
    "\n",
    "3) Compute permutations of an input string without making duplicates and with good space complexity."
   ]
  },
  {
   "cell_type": "code",
   "execution_count": 2,
   "metadata": {
    "collapsed": false
   },
   "outputs": [
    {
     "data": {
      "text/plain": [
       "(['abc', 'acb', 'bac', 'bca', 'cab', 'cba'],\n",
       " ['aba', 'aab', 'baa', 'baa', 'aba', 'aab'])"
      ]
     },
     "execution_count": 2,
     "metadata": {},
     "output_type": "execute_result"
    }
   ],
   "source": [
    "def permutations(string):\n",
    "    '''Finds permuations recursively using space complexity ~ O(N! N^2 ) yikes...\n",
    "    \n",
    "    N! from the number of items in the final list you keep.\n",
    "    N^2 from a given branch of the recursion which will each have partial lists like:\n",
    "    N + N-1 + N-2 ... 1 = ~ O(N^2)\n",
    "    \n",
    "    '''\n",
    "    chars = list(string)\n",
    "    \n",
    "    if not chars:\n",
    "        return ['']\n",
    "    \n",
    "    ls = []\n",
    "    for x in chars:\n",
    "        char_cp = [y for y in chars]\n",
    "        #print(char_cp) # shows how much memory you are using\n",
    "        char_cp.remove(x)\n",
    "        sub_perms = permutations(char_cp)\n",
    "        \n",
    "        for sub in sub_perms:\n",
    "            ls.append(x + sub)\n",
    "        #print(x, ls)\n",
    "    return ls\n",
    "\n",
    "permutations('abc'), permutations('aba')"
   ]
  },
  {
   "cell_type": "code",
   "execution_count": null,
   "metadata": {
    "collapsed": false
   },
   "outputs": [],
   "source": []
  },
  {
   "cell_type": "code",
   "execution_count": 3,
   "metadata": {
    "collapsed": false
   },
   "outputs": [
    {
     "ename": "NameError",
     "evalue": "name 'perm_gen' is not defined",
     "output_type": "error",
     "traceback": [
      "\u001b[0;31m---------------------------------------------------------------------------\u001b[0m",
      "\u001b[0;31mNameError\u001b[0m                                 Traceback (most recent call last)",
      "\u001b[0;32m<ipython-input-3-beb95973b61a>\u001b[0m in \u001b[0;36m<module>\u001b[0;34m()\u001b[0m\n\u001b[1;32m     19\u001b[0m             \u001b[0;32mfor\u001b[0m \u001b[0msub\u001b[0m \u001b[0;32min\u001b[0m \u001b[0msub_perms\u001b[0m\u001b[0;34m:\u001b[0m\u001b[0;34m\u001b[0m\u001b[0m\n\u001b[1;32m     20\u001b[0m                 \u001b[0;32myield\u001b[0m \u001b[0mx\u001b[0m \u001b[0;34m+\u001b[0m \u001b[0msub\u001b[0m\u001b[0;34m\u001b[0m\u001b[0m\n\u001b[0;32m---> 21\u001b[0;31m \u001b[0;34m[\u001b[0m\u001b[0mx\u001b[0m \u001b[0;32mfor\u001b[0m \u001b[0mx\u001b[0m \u001b[0;32min\u001b[0m \u001b[0mperm_gen\u001b[0m\u001b[0;34m(\u001b[0m\u001b[0;34m'abc'\u001b[0m\u001b[0;34m)\u001b[0m\u001b[0;34m]\u001b[0m\u001b[0;34m,\u001b[0m \u001b[0;34m[\u001b[0m\u001b[0mx\u001b[0m \u001b[0;32mfor\u001b[0m \u001b[0mx\u001b[0m \u001b[0;32min\u001b[0m \u001b[0mperm_gen\u001b[0m\u001b[0;34m(\u001b[0m\u001b[0;34m'aba'\u001b[0m\u001b[0;34m)\u001b[0m\u001b[0;34m]\u001b[0m\u001b[0;34m\u001b[0m\u001b[0m\n\u001b[0m",
      "\u001b[0;31mNameError\u001b[0m: name 'perm_gen' is not defined"
     ]
    }
   ],
   "source": [
    "def permutations_generator(string):\n",
    "    '''Generates permutations using N^2 space.\n",
    "    \n",
    "    Follows from same logic as above except no storage of intermediate results.\n",
    "    Therefore at max recursion depth, the first permutation is just returned (yield).\n",
    "    \n",
    "    '''\n",
    "    chars = list(string)\n",
    "    \n",
    "    if not chars:\n",
    "        yield ''\n",
    "    else:\n",
    "        for x in chars:\n",
    "            char_cp = [y for y in chars]\n",
    "            char_cp.remove(x)\n",
    "            \n",
    "            sub_string = ''.join(char_cp)\n",
    "            sub_perms = perm_gen(sub_string)\n",
    "            for sub in sub_perms:\n",
    "                yield x + sub\n",
    "[x for x in perm_gen('abc')], [x for x in perm_gen('aba')]"
   ]
  },
  {
   "cell_type": "code",
   "execution_count": 4,
   "metadata": {
    "collapsed": false
   },
   "outputs": [
    {
     "data": {
      "text/plain": [
       "(['abc', 'acb', 'bac', 'bca', 'cab', 'cba'], ['aba', 'aab', 'baa'])"
      ]
     },
     "execution_count": 4,
     "metadata": {},
     "output_type": "execute_result"
    }
   ],
   "source": [
    "def perm_gen_nodup(string):\n",
    "    '''Generates permutations using O(N^2) space with no duplicates.\n",
    "    \n",
    "    \n",
    "    '''\n",
    "    chars = list(string)\n",
    "    \n",
    "    if not chars:\n",
    "        yield ''\n",
    "    else:\n",
    "        chars_exp = set() # this is only created along the current branch in the recursion\n",
    "                          # therefore N + N-1 + N-2 ... 1 = N^2\n",
    "    \n",
    "        for x in chars:\n",
    "            if x in chars_exp:\n",
    "                continue\n",
    "            else:\n",
    "                chars_exp.add(x)\n",
    "            char_cp = [y for y in chars]\n",
    "            char_cp.remove(x)\n",
    "            sub_string = ''.join(char_cp)\n",
    "            sub_perms = perm_gen_nodup(sub_string)\n",
    "            for sub in sub_perms:\n",
    "                yield x + sub\n",
    "[x for x in perm_gen_nodup('abc')], [x for x in perm_gen_nodup('aba')]"
   ]
  },
  {
   "cell_type": "code",
   "execution_count": null,
   "metadata": {
    "collapsed": false
   },
   "outputs": [],
   "source": []
  },
  {
   "cell_type": "code",
   "execution_count": 18,
   "metadata": {
    "collapsed": false
   },
   "outputs": [],
   "source": [
    "def nodupe_permutations(string):\n",
    "    '''\n",
    "    \n",
    "    Order the chars in the string lexographically. This allows local comparison\n",
    "    before following a character which will be on a path already traversed.\n",
    "    \n",
    "    e.g.\n",
    "    'zaabc'\n",
    "    When exploring the 2nd 'a' along the path\n",
    "    'za' -> 'abc', one can recognize that you have already explored\n",
    "    'za' + call('abc') so you can skip this recursion.\n",
    "    \n",
    "    '''\n",
    "    lex = ''.join(sorted(string)) # N log N time complexity\n",
    "    return permutation_generator_nodupe(lex)\n",
    "\n",
    "def permutation_generator_nodupe(string):\n",
    "    '''Generates permutations using O(N) space with no duplicates.'''\n",
    "    if not string:\n",
    "        yield ''\n",
    "    else:\n",
    "        chars = list(string)\n",
    "        prev_char = None\n",
    "        for c in chars:\n",
    "            if c == prev_char:\n",
    "                continue\n",
    "            chars_ls = [y for y in chars]\n",
    "            chars_ls.remove(c)\n",
    "            sub_string = ''.join(chars_ls)\n",
    "            for sub in permutation_generator_nodupe(sub_string):\n",
    "                yield c + sub\n",
    "            prev_char = c\n"
   ]
  },
  {
   "cell_type": "code",
   "execution_count": 20,
   "metadata": {
    "collapsed": false
   },
   "outputs": [
    {
     "name": "stdout",
     "output_type": "stream",
     "text": [
      "aaabc\n",
      "aaacb\n",
      "aabac\n",
      "aabca\n",
      "aacab\n",
      "aacba\n",
      "abaac\n",
      "abaca\n",
      "abcaa\n",
      "acaab\n",
      "acaba\n",
      "acbaa\n",
      "baaac\n",
      "baaca\n",
      "bacaa\n",
      "bcaaa\n",
      "caaab\n",
      "caaba\n",
      "cabaa\n",
      "cbaaa\n"
     ]
    }
   ],
   "source": [
    "for x in nodupe_permutations('aaabc'):\n",
    "    print(x)"
   ]
  },
  {
   "cell_type": "code",
   "execution_count": 21,
   "metadata": {
    "collapsed": false
   },
   "outputs": [
    {
     "name": "stdout",
     "output_type": "stream",
     "text": [
      "\n",
      "a\n",
      "ab\n",
      "abc\n",
      "abcd\n",
      "abcde\n",
      "abcdef\n",
      "abcdefg\n",
      "abcdefgh\n",
      "abcdefghi\n"
     ]
    }
   ],
   "source": [
    "import time\n",
    "stats = []\n",
    "chars = list('abcdefghijklmnopqrs')\n",
    "for ix in range(10):\n",
    "    string = ''.join(chars[:ix])\n",
    "    print(string)\n",
    "    \n",
    "    count = 0\n",
    "    start = time.time()\n",
    "    for x in nodupe_permutations(string):\n",
    "        count += 1\n",
    "    end = time.time()\n",
    "    \n",
    "    stats.append((len(string), count, end-start))"
   ]
  },
  {
   "cell_type": "code",
   "execution_count": 22,
   "metadata": {
    "collapsed": false
   },
   "outputs": [
    {
     "data": {
      "text/plain": [
       "[(0, 1, 5.0067901611328125e-06),\n",
       " (1, 1, 7.867813110351562e-06),\n",
       " (2, 2, 1.1920928955078125e-05),\n",
       " (3, 6, 2.9087066650390625e-05),\n",
       " (4, 24, 0.00012087821960449219),\n",
       " (5, 120, 0.0006678104400634766),\n",
       " (6, 720, 0.0035991668701171875),\n",
       " (7, 5040, 0.02054905891418457),\n",
       " (8, 40320, 0.16103601455688477),\n",
       " (9, 362880, 1.4618029594421387)]"
      ]
     },
     "execution_count": 22,
     "metadata": {},
     "output_type": "execute_result"
    }
   ],
   "source": [
    "stats"
   ]
  },
  {
   "cell_type": "code",
   "execution_count": 23,
   "metadata": {
    "collapsed": false
   },
   "outputs": [],
   "source": [
    "%matplotlib inline\n",
    "import matplotlib.pyplot as plt"
   ]
  },
  {
   "cell_type": "code",
   "execution_count": 24,
   "metadata": {
    "collapsed": false
   },
   "outputs": [],
   "source": [
    "import numpy as np\n",
    "from scipy.misc import factorial\n",
    "factorial(6)\n",
    "factN = [factorial(n) for n in range(12)]"
   ]
  },
  {
   "cell_type": "code",
   "execution_count": null,
   "metadata": {
    "collapsed": true
   },
   "outputs": [],
   "source": []
  },
  {
   "cell_type": "code",
   "execution_count": 25,
   "metadata": {
    "collapsed": false
   },
   "outputs": [],
   "source": [
    "x1, x2, y = zip(*stats)"
   ]
  },
  {
   "cell_type": "code",
   "execution_count": 26,
   "metadata": {
    "collapsed": false
   },
   "outputs": [
    {
     "data": {
      "image/png": "[encoded data removed]",
      "text/plain": [
       "<matplotlib.figure.Figure at 0x104d2bf50>"
      ]
     },
     "metadata": {},
     "output_type": "display_data"
    }
   ],
   "source": [
    "fig, ax = plt.subplots(figsize=(15,9))\n",
    "ax.plot(x2, y, 'o--')\n",
    "\n",
    "plt.show()"
   ]
  },
  {
   "cell_type": "code",
   "execution_count": null,
   "metadata": {
    "collapsed": true
   },
   "outputs": [],
   "source": []
  }
 ],
 "metadata": {
  "kernelspec": {
   "display_name": "Python 2",
   "language": "python",
   "name": "python2"
  },
  "language_info": {
   "codemirror_mode": {
    "name": "ipython",
    "version": 2
   },
   "file_extension": ".py",
   "mimetype": "text/x-python",
   "name": "python",
   "nbconvert_exporter": "python",
   "pygments_lexer": "ipython2",
   "version": "2.7.10"
  }
 },
 "nbformat": 4,
 "nbformat_minor": 0
}
