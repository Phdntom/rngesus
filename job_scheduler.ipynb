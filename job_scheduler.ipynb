{
 "cells": [
  {
   "cell_type": "markdown",
   "metadata": {
    "collapsed": true
   },
   "source": [
    "You are given a list of job ids and want to compute the total time it will take to execute all jobs in the list.\n",
    "Each item in the list will take 1 unit of time but there is also specified a delay time, which is the amount of time\n",
    "you must wait between executing identical jobs. You must still execute the jobs in order.\n",
    "\n",
    "e.g.\n",
    "\n",
    "> jobids = [1, 1, 2, 1]\n",
    "\n",
    "> delay = 2\n",
    "\n",
    "# executes as 1, x, x, 1, 2, x, 1\n",
    "and takes time = 7\n",
    "where `x` means you didn't execute anything in that unit of time."
   ]
  },
  {
   "cell_type": "code",
   "execution_count": 18,
   "metadata": {
    "collapsed": false
   },
   "outputs": [
    {
     "name": "stdout",
     "output_type": "stream",
     "text": [
      "Job 1 ran at time 0\n",
      "Job 1 ran at time 4\n",
      "Job 2 ran at time 5\n",
      "Job 1 ran at time 8\n",
      "Job 2 ran at time 9\n",
      "Job 2 ran at time 13\n",
      "Job 3 ran at time 14\n",
      "Job 2 ran at time 17\n",
      "Job 1 ran at time 18\n",
      "Job 3 ran at time 19\n"
     ]
    },
    {
     "data": {
      "text/plain": [
       "20"
      ]
     },
     "execution_count": 18,
     "metadata": {},
     "output_type": "execute_result"
    }
   ],
   "source": [
    "def job_time(jobids, delay):\n",
    "    \n",
    "    last_run = {}\n",
    "    time = 0\n",
    "    for job in jobids:\n",
    "        if job in last_run:\n",
    "            last = last_run[job]\n",
    "        else:\n",
    "            last = - 2 * delay\n",
    "        time_diff = time - last\n",
    "        \n",
    "        if time_diff <= delay:\n",
    "            delay_diff = delay - time_diff + 1\n",
    "            time += delay_diff\n",
    "\n",
    "        last_run[job] = time\n",
    "        print('Job {0} ran at time {1}'.format(job, time))\n",
    "        time += 1\n",
    "        \n",
    "    return time\n",
    "        \n",
    "    \n",
    "case1 = [1, 1, 2, 1, 2, 2, 3, 2, 1, 3]    \n",
    "job_time(case1, 3)    "
   ]
  },
  {
   "cell_type": "code",
   "execution_count": null,
   "metadata": {
    "collapsed": false
   },
   "outputs": [],
   "source": []
  },
  {
   "cell_type": "code",
   "execution_count": null,
   "metadata": {
    "collapsed": true
   },
   "outputs": [],
   "source": []
  }
 ],
 "metadata": {
  "kernelspec": {
   "display_name": "Python 2",
   "language": "python",
   "name": "python2"
  },
  "language_info": {
   "codemirror_mode": {
    "name": "ipython",
    "version": 2
   },
   "file_extension": ".py",
   "mimetype": "text/x-python",
   "name": "python",
   "nbconvert_exporter": "python",
   "pygments_lexer": "ipython2",
   "version": "2.7.10"
  }
 },
 "nbformat": 4,
 "nbformat_minor": 0
}
